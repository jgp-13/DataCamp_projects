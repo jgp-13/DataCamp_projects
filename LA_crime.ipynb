{
 "cells": [
  {
   "cell_type": "markdown",
   "id": "31ab2131-3049-4d8d-b9dc-d195f72af27a",
   "metadata": {},
   "source": [
    "![Los Angeles skyline](la_skyline.jpg)\n",
    "\n",
    "Los Angeles, California 😎. The City of Angels. Tinseltown. The Entertainment Capital of the World! \n",
    "\n",
    "Known for its warm weather, palm trees, sprawling coastline, and Hollywood, along with producing some of the most iconic films and songs. However, as with any highly populated city, it isn't always glamorous and there can be a large volume of crime. That's where you can help!\n",
    "\n",
    "You have been asked to support the Los Angeles Police Department (LAPD) by analyzing crime data to identify patterns in criminal behavior. They plan to use your insights to allocate resources effectively to tackle various crimes in different areas.\n",
    "\n",
    "## The Data\n",
    "\n",
    "They have provided you with a single dataset to use. A summary and preview are provided below.\n",
    "\n",
    "It is a modified version of the original data, which is publicly available from Los Angeles Open Data.\n",
    "\n",
    "# crimes.csv\n",
    "\n",
    "| Column     | Description              |\n",
    "|------------|--------------------------|\n",
    "| `'DR_NO'` | Division of Records Number: Official file number made up of a 2-digit year, area ID, and 5 digits. |\n",
    "| `'Date Rptd'` | Date reported - MM/DD/YYYY. |\n",
    "| `'DATE OCC'` | Date of occurrence - MM/DD/YYYY. |\n",
    "| `'TIME OCC'` | In 24-hour military time. |\n",
    "| `'AREA NAME'` | The 21 Geographic Areas or Patrol Divisions are also given a name designation that references a landmark or the surrounding community that it is responsible for. For example, the 77th Street Division is located at the intersection of South Broadway and 77th Street, serving neighborhoods in South Los Angeles. |\n",
    "| `'Crm Cd Desc'` | Indicates the crime committed. |\n",
    "| `'Vict Age'` | Victim's age in years. |\n",
    "| `'Vict Sex'` | Victim's sex: `F`: Female, `M`: Male, `X`: Unknown. |\n",
    "| `'Vict Descent'` | Victim's descent:<ul><li>`A` - Other Asian</li><li>`B` - Black</li><li>`C` - Chinese</li><li>`D` - Cambodian</li><li>`F` - Filipino</li><li>`G` - Guamanian</li><li>`H` - Hispanic/Latin/Mexican</li><li>`I` - American Indian/Alaskan Native</li><li>`J` - Japanese</li><li>`K` - Korean</li><li>`L` - Laotian</li><li>`O` - Other</li><li>`P` - Pacific Islander</li><li>`S` - Samoan</li><li>`U` - Hawaiian</li><li>`V` - Vietnamese</li><li>`W` - White</li><li>`X` - Unknown</li><li>`Z` - Asian Indian</li> |\n",
    "| `'Weapon Desc'` | Description of the weapon used (if applicable). |\n",
    "| `'Status Desc'` | Crime status. |\n",
    "| `'LOCATION'` | Street address of the crime. |"
   ]
  },
  {
   "cell_type": "code",
   "execution_count": 1,
   "id": "7c6c3c36-5c8b-4cce-8681-95292b8f0861",
   "metadata": {
    "executionCancelledAt": null,
    "executionTime": 413,
    "lastExecutedAt": 1712065925214,
    "lastScheduledRunId": null,
    "lastSuccessfullyExecutedCode": "# Re-run this cell\n# Import required libraries\nimport pandas as pd\nimport numpy as np\nimport matplotlib.pyplot as plt\nimport seaborn as sns\ncrimes = pd.read_csv(\"crimes.csv\", parse_dates=[\"Date Rptd\", \"DATE OCC\"], dtype={\"TIME OCC\": str})\ncrimes.head()",
    "outputsMetadata": {
     "0": {
      "height": 211,
      "type": "dataFrame"
     }
    }
   },
   "outputs": [
    {
     "data": {
      "text/html": [
       "<div>\n",
       "<style scoped>\n",
       "    .dataframe tbody tr th:only-of-type {\n",
       "        vertical-align: middle;\n",
       "    }\n",
       "\n",
       "    .dataframe tbody tr th {\n",
       "        vertical-align: top;\n",
       "    }\n",
       "\n",
       "    .dataframe thead th {\n",
       "        text-align: right;\n",
       "    }\n",
       "</style>\n",
       "<table border=\"1\" class=\"dataframe\">\n",
       "  <thead>\n",
       "    <tr style=\"text-align: right;\">\n",
       "      <th></th>\n",
       "      <th>DR_NO</th>\n",
       "      <th>Date Rptd</th>\n",
       "      <th>DATE OCC</th>\n",
       "      <th>TIME OCC</th>\n",
       "      <th>AREA NAME</th>\n",
       "      <th>Crm Cd Desc</th>\n",
       "      <th>Vict Age</th>\n",
       "      <th>Vict Sex</th>\n",
       "      <th>Vict Descent</th>\n",
       "      <th>Weapon Desc</th>\n",
       "      <th>Status Desc</th>\n",
       "      <th>LOCATION</th>\n",
       "    </tr>\n",
       "  </thead>\n",
       "  <tbody>\n",
       "    <tr>\n",
       "      <th>0</th>\n",
       "      <td>220314085</td>\n",
       "      <td>2022-07-22</td>\n",
       "      <td>2020-05-12</td>\n",
       "      <td>1110</td>\n",
       "      <td>Southwest</td>\n",
       "      <td>THEFT OF IDENTITY</td>\n",
       "      <td>27</td>\n",
       "      <td>F</td>\n",
       "      <td>B</td>\n",
       "      <td>NaN</td>\n",
       "      <td>Invest Cont</td>\n",
       "      <td>2500 S  SYCAMORE                     AV</td>\n",
       "    </tr>\n",
       "    <tr>\n",
       "      <th>1</th>\n",
       "      <td>222013040</td>\n",
       "      <td>2022-08-06</td>\n",
       "      <td>2020-06-04</td>\n",
       "      <td>1620</td>\n",
       "      <td>Olympic</td>\n",
       "      <td>THEFT OF IDENTITY</td>\n",
       "      <td>60</td>\n",
       "      <td>M</td>\n",
       "      <td>H</td>\n",
       "      <td>NaN</td>\n",
       "      <td>Invest Cont</td>\n",
       "      <td>3300    SAN MARINO                   ST</td>\n",
       "    </tr>\n",
       "    <tr>\n",
       "      <th>2</th>\n",
       "      <td>220614831</td>\n",
       "      <td>2022-08-18</td>\n",
       "      <td>2020-08-17</td>\n",
       "      <td>1200</td>\n",
       "      <td>Hollywood</td>\n",
       "      <td>THEFT OF IDENTITY</td>\n",
       "      <td>28</td>\n",
       "      <td>M</td>\n",
       "      <td>H</td>\n",
       "      <td>NaN</td>\n",
       "      <td>Invest Cont</td>\n",
       "      <td>1900    TRANSIENT</td>\n",
       "    </tr>\n",
       "    <tr>\n",
       "      <th>3</th>\n",
       "      <td>231207725</td>\n",
       "      <td>2023-02-27</td>\n",
       "      <td>2020-01-27</td>\n",
       "      <td>0635</td>\n",
       "      <td>77th Street</td>\n",
       "      <td>THEFT OF IDENTITY</td>\n",
       "      <td>37</td>\n",
       "      <td>M</td>\n",
       "      <td>H</td>\n",
       "      <td>NaN</td>\n",
       "      <td>Invest Cont</td>\n",
       "      <td>6200    4TH                          AV</td>\n",
       "    </tr>\n",
       "    <tr>\n",
       "      <th>4</th>\n",
       "      <td>220213256</td>\n",
       "      <td>2022-07-14</td>\n",
       "      <td>2020-07-14</td>\n",
       "      <td>0900</td>\n",
       "      <td>Rampart</td>\n",
       "      <td>THEFT OF IDENTITY</td>\n",
       "      <td>79</td>\n",
       "      <td>M</td>\n",
       "      <td>B</td>\n",
       "      <td>NaN</td>\n",
       "      <td>Invest Cont</td>\n",
       "      <td>1200 W  7TH                          ST</td>\n",
       "    </tr>\n",
       "    <tr>\n",
       "      <th>5</th>\n",
       "      <td>221216052</td>\n",
       "      <td>2022-07-07</td>\n",
       "      <td>2020-02-23</td>\n",
       "      <td>1000</td>\n",
       "      <td>77th Street</td>\n",
       "      <td>THEFT OF IDENTITY</td>\n",
       "      <td>28</td>\n",
       "      <td>F</td>\n",
       "      <td>B</td>\n",
       "      <td>NaN</td>\n",
       "      <td>Invest Cont</td>\n",
       "      <td>500 W  75TH                         ST</td>\n",
       "    </tr>\n",
       "    <tr>\n",
       "      <th>6</th>\n",
       "      <td>221515929</td>\n",
       "      <td>2022-10-10</td>\n",
       "      <td>2020-04-01</td>\n",
       "      <td>1200</td>\n",
       "      <td>N Hollywood</td>\n",
       "      <td>THEFT OF IDENTITY</td>\n",
       "      <td>33</td>\n",
       "      <td>M</td>\n",
       "      <td>W</td>\n",
       "      <td>NaN</td>\n",
       "      <td>Invest Cont</td>\n",
       "      <td>5700    CARTWRIGHT                   AV</td>\n",
       "    </tr>\n",
       "    <tr>\n",
       "      <th>7</th>\n",
       "      <td>231906599</td>\n",
       "      <td>2023-03-03</td>\n",
       "      <td>2020-01-14</td>\n",
       "      <td>1335</td>\n",
       "      <td>Mission</td>\n",
       "      <td>THEFT OF IDENTITY</td>\n",
       "      <td>35</td>\n",
       "      <td>M</td>\n",
       "      <td>O</td>\n",
       "      <td>NaN</td>\n",
       "      <td>Invest Cont</td>\n",
       "      <td>14500    WILLOWGREEN                  LN</td>\n",
       "    </tr>\n",
       "    <tr>\n",
       "      <th>8</th>\n",
       "      <td>231207476</td>\n",
       "      <td>2023-02-27</td>\n",
       "      <td>2020-08-15</td>\n",
       "      <td>0001</td>\n",
       "      <td>77th Street</td>\n",
       "      <td>BURGLARY</td>\n",
       "      <td>72</td>\n",
       "      <td>M</td>\n",
       "      <td>B</td>\n",
       "      <td>NaN</td>\n",
       "      <td>Invest Cont</td>\n",
       "      <td>8800    HAAS                         AV</td>\n",
       "    </tr>\n",
       "    <tr>\n",
       "      <th>9</th>\n",
       "      <td>231506571</td>\n",
       "      <td>2023-03-03</td>\n",
       "      <td>2020-07-15</td>\n",
       "      <td>1700</td>\n",
       "      <td>N Hollywood</td>\n",
       "      <td>OTHER MISCELLANEOUS CRIME</td>\n",
       "      <td>21</td>\n",
       "      <td>F</td>\n",
       "      <td>W</td>\n",
       "      <td>VERBAL THREAT</td>\n",
       "      <td>Invest Cont</td>\n",
       "      <td>12300    EMELITA                      ST</td>\n",
       "    </tr>\n",
       "  </tbody>\n",
       "</table>\n",
       "</div>"
      ],
      "text/plain": [
       "       DR_NO  Date Rptd   DATE OCC TIME OCC    AREA NAME  \\\n",
       "0  220314085 2022-07-22 2020-05-12     1110    Southwest   \n",
       "1  222013040 2022-08-06 2020-06-04     1620      Olympic   \n",
       "2  220614831 2022-08-18 2020-08-17     1200    Hollywood   \n",
       "3  231207725 2023-02-27 2020-01-27     0635  77th Street   \n",
       "4  220213256 2022-07-14 2020-07-14     0900      Rampart   \n",
       "5  221216052 2022-07-07 2020-02-23     1000  77th Street   \n",
       "6  221515929 2022-10-10 2020-04-01     1200  N Hollywood   \n",
       "7  231906599 2023-03-03 2020-01-14     1335      Mission   \n",
       "8  231207476 2023-02-27 2020-08-15     0001  77th Street   \n",
       "9  231506571 2023-03-03 2020-07-15     1700  N Hollywood   \n",
       "\n",
       "                 Crm Cd Desc  Vict Age Vict Sex Vict Descent    Weapon Desc  \\\n",
       "0          THEFT OF IDENTITY        27        F            B            NaN   \n",
       "1          THEFT OF IDENTITY        60        M            H            NaN   \n",
       "2          THEFT OF IDENTITY        28        M            H            NaN   \n",
       "3          THEFT OF IDENTITY        37        M            H            NaN   \n",
       "4          THEFT OF IDENTITY        79        M            B            NaN   \n",
       "5          THEFT OF IDENTITY        28        F            B            NaN   \n",
       "6          THEFT OF IDENTITY        33        M            W            NaN   \n",
       "7          THEFT OF IDENTITY        35        M            O            NaN   \n",
       "8                   BURGLARY        72        M            B            NaN   \n",
       "9  OTHER MISCELLANEOUS CRIME        21        F            W  VERBAL THREAT   \n",
       "\n",
       "   Status Desc                                  LOCATION  \n",
       "0  Invest Cont   2500 S  SYCAMORE                     AV  \n",
       "1  Invest Cont   3300    SAN MARINO                   ST  \n",
       "2  Invest Cont                         1900    TRANSIENT  \n",
       "3  Invest Cont   6200    4TH                          AV  \n",
       "4  Invest Cont   1200 W  7TH                          ST  \n",
       "5  Invest Cont    500 W  75TH                         ST  \n",
       "6  Invest Cont   5700    CARTWRIGHT                   AV  \n",
       "7  Invest Cont  14500    WILLOWGREEN                  LN  \n",
       "8  Invest Cont   8800    HAAS                         AV  \n",
       "9  Invest Cont  12300    EMELITA                      ST  "
      ]
     },
     "execution_count": 1,
     "metadata": {},
     "output_type": "execute_result"
    }
   ],
   "source": [
    "# Re-run this cell\n",
    "# Import required libraries\n",
    "import pandas as pd\n",
    "import numpy as np\n",
    "import matplotlib.pyplot as plt\n",
    "import seaborn as sns\n",
    "import datetime as dt\n",
    "\n",
    "df = pd.read_csv(\"crimes.csv\", parse_dates=[\"Date Rptd\", \"DATE OCC\"], dtype={\"TIME OCC\": str})\n",
    "df.head(10)"
   ]
  },
  {
   "cell_type": "markdown",
   "id": "6ee4d0b8-0bc7-4064-abbc-d549ffe6572a",
   "metadata": {},
   "source": [
    "Explore the crimes.csv dataset and use your findings to answer the following questions:\n",
    "\n",
    "* Which hour has the highest frequency of crimes? Store as an integer variable called `peak_crime_hour`.\n",
    "* Which area has the largest frequency of night crimes (crimes committed between 10pm and 3:59am)? Save as a string variable called `peak_night_crime_location`.\n",
    "* Identify the number of crimes committed against victims of different age groups. Save as a pandas Series called `victim_ages`, with age group labels `\"0-17\"`, `\"18-25\"`, `\"26-34\"`, `\"35-44\"`, `\"45-54\"`, `\"55-64\"`, and `\"65+\"` as the index and the frequency of crimes as the values."
   ]
  },
  {
   "cell_type": "markdown",
   "id": "eec412f6-600d-4bb9-a483-8e046d9c597b",
   "metadata": {},
   "source": [
    "## Data Wrangling"
   ]
  },
  {
   "cell_type": "code",
   "execution_count": 2,
   "id": "3f9988b6-e587-4ffd-a0f0-ec5bdb846aa5",
   "metadata": {},
   "outputs": [
    {
     "name": "stdout",
     "output_type": "stream",
     "text": [
      "<class 'pandas.core.frame.DataFrame'>\n",
      "RangeIndex: 185715 entries, 0 to 185714\n",
      "Data columns (total 12 columns):\n",
      " #   Column        Non-Null Count   Dtype         \n",
      "---  ------        --------------   -----         \n",
      " 0   DR_NO         185715 non-null  int64         \n",
      " 1   Date Rptd     185715 non-null  datetime64[ns]\n",
      " 2   DATE OCC      185715 non-null  datetime64[ns]\n",
      " 3   TIME OCC      185715 non-null  object        \n",
      " 4   AREA NAME     185715 non-null  object        \n",
      " 5   Crm Cd Desc   185715 non-null  object        \n",
      " 6   Vict Age      185715 non-null  int64         \n",
      " 7   Vict Sex      185704 non-null  object        \n",
      " 8   Vict Descent  185705 non-null  object        \n",
      " 9   Weapon Desc   73502 non-null   object        \n",
      " 10  Status Desc   185715 non-null  object        \n",
      " 11  LOCATION      185715 non-null  object        \n",
      "dtypes: datetime64[ns](2), int64(2), object(8)\n",
      "memory usage: 17.0+ MB\n"
     ]
    }
   ],
   "source": [
    "df.info()"
   ]
  },
  {
   "cell_type": "markdown",
   "id": "bdece54a-4544-4421-812a-0eabc8a7e61b",
   "metadata": {},
   "source": [
    "* Further Analysis is required for `Vict Sex`, `Vict Descent` and `Weapon Desc`.\n",
    "* `DATE OCC` and `TIME OCC` could be merged in a single variable.\n",
    "* `TIME OCC` requires binning into 'Early Morning', 'Late Morning', 'Afternoon', 'Evening', 'Night'\n",
    "* The `LOCATION` column can be split into two different columns `Location_number` and `Street_name`"
   ]
  },
  {
   "cell_type": "code",
   "execution_count": 3,
   "id": "1b6a8a3e-c925-4fc8-9d85-60ad6f6e86fc",
   "metadata": {},
   "outputs": [
    {
     "data": {
      "text/html": [
       "<div>\n",
       "<style scoped>\n",
       "    .dataframe tbody tr th:only-of-type {\n",
       "        vertical-align: middle;\n",
       "    }\n",
       "\n",
       "    .dataframe tbody tr th {\n",
       "        vertical-align: top;\n",
       "    }\n",
       "\n",
       "    .dataframe thead th {\n",
       "        text-align: right;\n",
       "    }\n",
       "</style>\n",
       "<table border=\"1\" class=\"dataframe\">\n",
       "  <thead>\n",
       "    <tr style=\"text-align: right;\">\n",
       "      <th></th>\n",
       "      <th>DR_NO</th>\n",
       "      <th>Date Rptd</th>\n",
       "      <th>DATE OCC</th>\n",
       "      <th>Vict Age</th>\n",
       "    </tr>\n",
       "  </thead>\n",
       "  <tbody>\n",
       "    <tr>\n",
       "      <th>count</th>\n",
       "      <td>1.857150e+05</td>\n",
       "      <td>185715</td>\n",
       "      <td>185715</td>\n",
       "      <td>185715.000000</td>\n",
       "    </tr>\n",
       "    <tr>\n",
       "      <th>mean</th>\n",
       "      <td>2.255781e+08</td>\n",
       "      <td>2022-12-12 01:50:25.325902848</td>\n",
       "      <td>2022-11-27 19:04:55.711170560</td>\n",
       "      <td>39.999257</td>\n",
       "    </tr>\n",
       "    <tr>\n",
       "      <th>min</th>\n",
       "      <td>2.009072e+08</td>\n",
       "      <td>2022-06-01 00:00:00</td>\n",
       "      <td>2020-01-01 00:00:00</td>\n",
       "      <td>2.000000</td>\n",
       "    </tr>\n",
       "    <tr>\n",
       "      <th>25%</th>\n",
       "      <td>2.210108e+08</td>\n",
       "      <td>2022-09-04 00:00:00</td>\n",
       "      <td>2022-08-25 00:00:00</td>\n",
       "      <td>28.000000</td>\n",
       "    </tr>\n",
       "    <tr>\n",
       "      <th>50%</th>\n",
       "      <td>2.220114e+08</td>\n",
       "      <td>2022-12-10 00:00:00</td>\n",
       "      <td>2022-12-02 00:00:00</td>\n",
       "      <td>37.000000</td>\n",
       "    </tr>\n",
       "    <tr>\n",
       "      <th>75%</th>\n",
       "      <td>2.310044e+08</td>\n",
       "      <td>2023-03-20 00:00:00</td>\n",
       "      <td>2023-03-12 00:00:00</td>\n",
       "      <td>50.000000</td>\n",
       "    </tr>\n",
       "    <tr>\n",
       "      <th>max</th>\n",
       "      <td>2.399097e+08</td>\n",
       "      <td>2023-07-03 00:00:00</td>\n",
       "      <td>2023-07-03 00:00:00</td>\n",
       "      <td>99.000000</td>\n",
       "    </tr>\n",
       "    <tr>\n",
       "      <th>std</th>\n",
       "      <td>5.017438e+06</td>\n",
       "      <td>NaN</td>\n",
       "      <td>NaN</td>\n",
       "      <td>15.450227</td>\n",
       "    </tr>\n",
       "  </tbody>\n",
       "</table>\n",
       "</div>"
      ],
      "text/plain": [
       "              DR_NO                      Date Rptd  \\\n",
       "count  1.857150e+05                         185715   \n",
       "mean   2.255781e+08  2022-12-12 01:50:25.325902848   \n",
       "min    2.009072e+08            2022-06-01 00:00:00   \n",
       "25%    2.210108e+08            2022-09-04 00:00:00   \n",
       "50%    2.220114e+08            2022-12-10 00:00:00   \n",
       "75%    2.310044e+08            2023-03-20 00:00:00   \n",
       "max    2.399097e+08            2023-07-03 00:00:00   \n",
       "std    5.017438e+06                            NaN   \n",
       "\n",
       "                            DATE OCC       Vict Age  \n",
       "count                         185715  185715.000000  \n",
       "mean   2022-11-27 19:04:55.711170560      39.999257  \n",
       "min              2020-01-01 00:00:00       2.000000  \n",
       "25%              2022-08-25 00:00:00      28.000000  \n",
       "50%              2022-12-02 00:00:00      37.000000  \n",
       "75%              2023-03-12 00:00:00      50.000000  \n",
       "max              2023-07-03 00:00:00      99.000000  \n",
       "std                              NaN      15.450227  "
      ]
     },
     "execution_count": 3,
     "metadata": {},
     "output_type": "execute_result"
    }
   ],
   "source": [
    "df.describe()"
   ]
  },
  {
   "cell_type": "code",
   "execution_count": 4,
   "id": "4ce25731-46d2-42c6-a932-674fedc5b3f1",
   "metadata": {},
   "outputs": [],
   "source": [
    "def four2time(num):\n",
    "    ''' four2time(num)\n",
    "    variable 'num' should be a string of four elements e.g. '0000'\n",
    "    which will be transformed to a string with the format:\n",
    "    \"00:00:00\"\n",
    "    '''\n",
    "    new_str=num[0:2]+':'+num[2:4]+':00'\n",
    "    return new_str\n",
    "def date2str(DateTime):\n",
    "    ''' date2str(DateTime)\n",
    "    Gets the DateTime of type datetime and\n",
    "    returns only the string with the date.\n",
    "    '''\n",
    "    \n",
    "    new_date=str(DateTime.iloc[0])[:10]+' '+four2time(DateTime.iloc[1])\n",
    "    return new_date"
   ]
  },
  {
   "cell_type": "code",
   "execution_count": 5,
   "id": "a7d77e8c-ec6a-4c74-ad24-66c7645edf1e",
   "metadata": {},
   "outputs": [
    {
     "data": {
      "text/plain": [
       "Status Desc\n",
       "Invest Cont     153790\n",
       "Adult Other      17722\n",
       "Adult Arrest     13397\n",
       "Juv Arrest         492\n",
       "Juv Other          312\n",
       "UNK                  2\n",
       "Name: count, dtype: int64"
      ]
     },
     "execution_count": 5,
     "metadata": {},
     "output_type": "execute_result"
    }
   ],
   "source": [
    "df['Status Desc'].value_counts()"
   ]
  },
  {
   "cell_type": "code",
   "execution_count": 6,
   "id": "6f017931-2a01-4379-b98d-1f1c124a51ae",
   "metadata": {},
   "outputs": [
    {
     "data": {
      "text/plain": [
       "Vict Descent\n",
       "H      74128\n",
       "W      44985\n",
       "B      34931\n",
       "O      16331\n",
       "A       5519\n",
       "X       4548\n",
       "K       1389\n",
       "F       1228\n",
       "C       1210\n",
       "J        433\n",
       "V        327\n",
       "I        322\n",
       "Z        145\n",
       "P         83\n",
       "U         54\n",
       "D         21\n",
       "L         20\n",
       "S         16\n",
       "G         14\n",
       "NaN       10\n",
       "-          1\n",
       "Name: count, dtype: int64"
      ]
     },
     "execution_count": 6,
     "metadata": {},
     "output_type": "execute_result"
    }
   ],
   "source": [
    "df['Vict Descent'].value_counts(dropna=False)"
   ]
  },
  {
   "cell_type": "code",
   "execution_count": 7,
   "id": "ffc5b21f-35f5-4591-b36c-ec27a176f76d",
   "metadata": {},
   "outputs": [
    {
     "data": {
      "text/plain": [
       "AREA NAME\n",
       "Central        14944\n",
       "Southwest      11945\n",
       "77th Street    11739\n",
       "Pacific         9923\n",
       "Hollywood       9762\n",
       "Southeast       9571\n",
       "Olympic         9414\n",
       "Newton          9152\n",
       "Van Nuys        8621\n",
       "N Hollywood     8502\n",
       "Wilshire        8482\n",
       "Topanga         8478\n",
       "Rampart         8346\n",
       "West Valley     8102\n",
       "West LA         7911\n",
       "Northeast       7628\n",
       "Devonshire      7411\n",
       "Mission         6990\n",
       "Harbor          6618\n",
       "Hollenbeck      6193\n",
       "Foothill        5983\n",
       "Name: count, dtype: int64"
      ]
     },
     "execution_count": 7,
     "metadata": {},
     "output_type": "execute_result"
    }
   ],
   "source": [
    "df['AREA NAME'].value_counts(dropna=False)"
   ]
  },
  {
   "cell_type": "code",
   "execution_count": 8,
   "id": "e21ff270-70b9-4753-9a5c-afb7eb9b7984",
   "metadata": {},
   "outputs": [
    {
     "data": {
      "text/plain": [
       "13663"
      ]
     },
     "execution_count": 8,
     "metadata": {},
     "output_type": "execute_result"
    }
   ],
   "source": [
    "df['HOUR OCC']=df['TIME OCC'].str[:2].astype('int')\n",
    "df['HOUR OCC'].value_counts().max()"
   ]
  },
  {
   "cell_type": "code",
   "execution_count": 9,
   "id": "5f639f17-24f6-454e-8957-c10ee569f1cd",
   "metadata": {},
   "outputs": [
    {
     "data": {
      "image/png": "[encoded data removed]",
      "text/plain": [
       "<Figure size 640x480 with 1 Axes>"
      ]
     },
     "metadata": {},
     "output_type": "display_data"
    }
   ],
   "source": [
    "plt.clf()\n",
    "g=sns.countplot(x='HOUR OCC',data=df           )\n",
    "g.set_xticks(range(0,24)) \n",
    "# g.set_xticklabels(range(0,25),rotation=90 )\n",
    "plt.show()"
   ]
  },
  {
   "cell_type": "code",
   "execution_count": 10,
   "id": "dd657975-1629-4f24-a4ac-05e93790b065",
   "metadata": {},
   "outputs": [],
   "source": [
    "peak_crime_hour=12"
   ]
  },
  {
   "cell_type": "code",
   "execution_count": 11,
   "id": "79cbbe3c-2491-49e9-95d2-950220da0453",
   "metadata": {},
   "outputs": [],
   "source": [
    "labels_hr=['Night','Morning','Afternoon','Evening','Night']\n",
    "time_ranges=[0,4,11,16,21,24]\n",
    "df['time_zone']=pd.cut(df['HOUR OCC'],bins=time_ranges,labels=labels_hr,ordered=False)\n",
    "\n",
    "df['time_zone']=pd.Categorical(df['time_zone'],categories=['Morning','Afternoon','Evening','Night'],ordered=True)"
   ]
  },
  {
   "cell_type": "code",
   "execution_count": 12,
   "id": "dc8c673f-6f88-49d7-9d62-bdddb5ee03b1",
   "metadata": {},
   "outputs": [
    {
     "data": {
      "text/plain": [
       "time_zone\n",
       "Morning      46037\n",
       "Afternoon    49626\n",
       "Evening      47631\n",
       "Night        33693\n",
       "Name: count, dtype: int64"
      ]
     },
     "execution_count": 12,
     "metadata": {},
     "output_type": "execute_result"
    }
   ],
   "source": [
    "df['time_zone'].value_counts().sort_index()"
   ]
  },
  {
   "cell_type": "code",
   "execution_count": 13,
   "id": "ec419eef-4e58-40f7-9afc-e53cf2d37d37",
   "metadata": {},
   "outputs": [
    {
     "data": {
      "image/png": "[encoded data removed]",
      "text/plain": [
       "<Figure size 640x480 with 1 Axes>"
      ]
     },
     "metadata": {},
     "output_type": "display_data"
    }
   ],
   "source": [
    "plt.clf()\n",
    "g=sns.countplot(x='time_zone',data=df           )\n",
    "\n",
    "plt.show()"
   ]
  },
  {
   "cell_type": "code",
   "execution_count": 14,
   "id": "5f5f06a4-4f51-4f9b-8c1a-b753fbd4c2f8",
   "metadata": {},
   "outputs": [],
   "source": [
    "crime_zones=df[df['time_zone']=='Night'].groupby(['AREA NAME'])['HOUR OCC'].sum().sort_values(ascending=False)\n",
    "peak_night_crime_location=crime_zones.index[0]"
   ]
  },
  {
   "cell_type": "code",
   "execution_count": 15,
   "id": "23ea1a19-2af2-4df6-8065-624e646844d1",
   "metadata": {},
   "outputs": [],
   "source": [
    "df_age=df[['Vict Age']]\n",
    "age_groups=[\"0-17\", \"18-25\", \"26-34\", \"35-44\", \"45-54\", \"55-64\",  \"65+\"]\n",
    "age_ranges=[0, 17,      25,      34,      44,      54,      64,    np.inf]\n",
    "\n",
    "df['Age_ranges']=pd.cut(df['Vict Age'],\n",
    "                           bins=age_ranges,\n",
    "                           labels=age_groups)"
   ]
  },
  {
   "cell_type": "code",
   "execution_count": 16,
   "id": "36dd4ddd-1507-420f-8cc3-609dd7f18634",
   "metadata": {},
   "outputs": [
    {
     "data": {
      "image/png": "[encoded data removed]",
      "text/plain": [
       "<Figure size 640x480 with 1 Axes>"
      ]
     },
     "metadata": {},
     "output_type": "display_data"
    }
   ],
   "source": [
    "plt.clf()\n",
    "sns.countplot(data=df,x='Age_ranges')\n",
    "plt.show()"
   ]
  },
  {
   "cell_type": "code",
   "execution_count": 17,
   "id": "8c71df58-da73-4227-bfaa-567845cea2ac",
   "metadata": {},
   "outputs": [],
   "source": [
    "victim_ages=df['Age_ranges'].value_counts()"
   ]
  },
  {
   "cell_type": "code",
   "execution_count": 18,
   "id": "0b241bd4-afb3-4bbb-bc0c-af94f7e9eca0",
   "metadata": {},
   "outputs": [
    {
     "name": "stdout",
     "output_type": "stream",
     "text": [
      "Peak crime hour: 12:00\n",
      "Peak night crime location: Central\n",
      "Victim ages: Age_ranges\n",
      "26-34    47470\n",
      "35-44    42157\n",
      "45-54    28353\n",
      "18-25    28291\n",
      "55-64    20169\n",
      "65+      14747\n",
      "0-17      4528\n",
      "Name: count, dtype: int64\n"
     ]
    }
   ],
   "source": [
    "print(f'Peak crime hour: {peak_crime_hour}:00')\n",
    "print(f'Peak night crime location: {peak_night_crime_location}')\n",
    "print(f'Victim ages: {victim_ages}')"
   ]
  },
  {
   "cell_type": "code",
   "execution_count": 19,
   "id": "f58b1fc5-556e-42d3-82bd-cd495c9e73d8",
   "metadata": {},
   "outputs": [
    {
     "name": "stdout",
     "output_type": "stream",
     "text": [
      "<class 'pandas.core.frame.DataFrame'>\n",
      "RangeIndex: 185715 entries, 0 to 185714\n",
      "Data columns (total 15 columns):\n",
      " #   Column        Non-Null Count   Dtype         \n",
      "---  ------        --------------   -----         \n",
      " 0   DR_NO         185715 non-null  int64         \n",
      " 1   Date Rptd     185715 non-null  datetime64[ns]\n",
      " 2   DATE OCC      185715 non-null  datetime64[ns]\n",
      " 3   TIME OCC      185715 non-null  object        \n",
      " 4   AREA NAME     185715 non-null  object        \n",
      " 5   Crm Cd Desc   185715 non-null  object        \n",
      " 6   Vict Age      185715 non-null  int64         \n",
      " 7   Vict Sex      185704 non-null  object        \n",
      " 8   Vict Descent  185705 non-null  object        \n",
      " 9   Weapon Desc   73502 non-null   object        \n",
      " 10  Status Desc   185715 non-null  object        \n",
      " 11  LOCATION      185715 non-null  object        \n",
      " 12  HOUR OCC      185715 non-null  int32         \n",
      " 13  time_zone     176987 non-null  category      \n",
      " 14  Age_ranges    185715 non-null  category      \n",
      "dtypes: category(2), datetime64[ns](2), int32(1), int64(2), object(8)\n",
      "memory usage: 18.1+ MB\n"
     ]
    }
   ],
   "source": [
    "df.info()"
   ]
  }
 ],
 "metadata": {
  "colab": {
   "name": "Welcome to DataCamp Workspaces.ipynb",
   "provenance": []
  },
  "kernelspec": {
   "display_name": "Python 3 (ipykernel)",
   "language": "python",
   "name": "python3"
  },
  "language_info": {
   "codemirror_mode": {
    "name": "ipython",
    "version": 3
   },
   "file_extension": ".py",
   "mimetype": "text/x-python",
   "name": "python",
   "nbconvert_exporter": "python",
   "pygments_lexer": "ipython3",
   "version": "3.11.9"
  }
 },
 "nbformat": 4,
 "nbformat_minor": 5
}
